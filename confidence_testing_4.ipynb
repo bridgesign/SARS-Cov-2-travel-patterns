{
 "cells": [
  {
   "cell_type": "code",
   "execution_count": null,
   "metadata": {},
   "outputs": [],
   "source": [
    "from seirsplus.models import *\n",
    "import networkx as nx\n",
    "import matplotlib.pyplot as plt\n",
    "import numpy as np\n",
    "import pandas as pd\n",
    "import math\n",
    "import json\n",
    "import  pickle\n",
    "from shapely.geometry import Polygon, Point, MultiPoint\n",
    "from scipy.spatial import ConvexHull\n",
    "from dateutil import parser\n",
    "\n",
    "%matplotlib inline"
   ]
  },
  {
   "cell_type": "code",
   "execution_count": null,
   "metadata": {},
   "outputs": [],
   "source": [
    "plt.rcParams['figure.figsize'] = (15, 8)"
   ]
  },
  {
   "cell_type": "code",
   "execution_count": null,
   "metadata": {},
   "outputs": [],
   "source": [
    "with open('region_sim4.p','rb') as fp:\n",
    "    S5,S10,S20 = pickle.load(fp)"
   ]
  },
  {
   "cell_type": "code",
   "execution_count": null,
   "metadata": {
    "jupyter": {
     "source_hidden": true
    }
   },
   "outputs": [],
   "source": [
    "# Below section for creating graphs and monte carlo simul\n",
    "\n",
    "def monte(N, initI,theta_E, theta_I ,mf, checkpoints, G, sim=2):\n",
    "    beta = 0.185\n",
    "    sigma = 1/5.2\n",
    "    gamma = 1/15\n",
    "    mu_I = 0.004\n",
    "    p = 0.6\n",
    "    Q = None\n",
    "    beta_D = 0.155\n",
    "    sigma_D = 1/5.2\n",
    "    mu_D = 0.0004\n",
    "    theta_E = theta_E\n",
    "    theta_I = theta_I\n",
    "    phi_E = 0.4\n",
    "    phi_I = 0.8\n",
    "    initN = N\n",
    "    initI = initI\n",
    "    initE = initI*4\n",
    "    initD_E = 0.0\n",
    "    initD_I = 0\n",
    "    initR = 0\n",
    "    initF = 0\n",
    "    x_i = 0.001\n",
    "    psi_E = 0.04\n",
    "    psi_I = 1\n",
    "    q = 0.3\n",
    "    gamma_D = gamma\n",
    "\n",
    "    # Creating dataframe\n",
    "    time_index=pd.date_range(start='2020-04-01', periods=90)\n",
    "    df_I=pd.DataFrame(index=time_index)\n",
    "    df_DI=pd.DataFrame(index=time_index)\n",
    "    df_R = pd.DataFrame(index=time_index)\n",
    "\n",
    "    for i in range(1, sim+1):\n",
    "        model = SEIRSNetworkModel(G = G,Q = G_Quarantine, beta = beta, sigma = sigma, gamma =gamma, mu_I = mu_I, beta_D = beta_D, sigma_D = sigma_D, \n",
    "                          gamma_D = gamma_D, mu_D = mu_D, theta_E = theta_E, theta_I = theta_I, phi_E = phi_E, phi_I = phi_I,\n",
    "                          psi_E = psi_E, psi_I = psi_I, q = 0.3, initI = initI, initE = initE,initD_E = initD_E, \n",
    "                          initD_I = initD_I)\n",
    "\n",
    "\n",
    "\n",
    "        model.run(T=120, checkpoints=checkpoints,verbose = True)\n",
    "        time=pd.to_datetime(pd.Series(model.tseries),unit='d',origin='2020-04-01')\n",
    "\n",
    "        df_tempI=pd.DataFrame({'t':time, i:model.numI})\n",
    "        df_tempI.set_index('t',inplace=True)\n",
    "        df_tempI['t']=df_tempI.index.date\n",
    "        df_tempI.reset_index(drop=True,inplace=True)\n",
    "        df_tempI.set_index('t',inplace=True)\n",
    "        df_tempI.reset_index(inplace=True)\n",
    "        df_tempI = pd.pivot_table(df_tempI, index='t', aggfunc='mean')\n",
    "\n",
    "        df_I=df_I.merge(df_tempI, how='outer', right_index=True, left_index=True).fillna(np.NaN)\n",
    "\n",
    "\n",
    "        df_tempDI=pd.DataFrame({'t':time, i:model.numD_I})\n",
    "        df_tempDI.set_index('t',inplace=True)\n",
    "        df_tempDI['t']=df_tempDI.index.date\n",
    "        df_tempDI.reset_index(drop=True,inplace=True)\n",
    "        df_tempDI.set_index('t',inplace=True)\n",
    "        df_tempDI.reset_index(inplace=True)\n",
    "        df_tempDI= pd.pivot_table(df_tempDI, index='t', aggfunc='mean')\n",
    "        \n",
    "\n",
    "        df_DI=df_DI.merge(df_tempDI, how='outer', right_index=True, left_index=True).fillna(np.NaN)\n",
    "        \n",
    "        df_tempR=pd.DataFrame({'t':time, i:model.numR})\n",
    "        df_tempR.set_index('t',inplace=True)\n",
    "        df_tempR['t']=df_tempR.index.date\n",
    "        df_tempR.reset_index(drop=True,inplace=True)\n",
    "        df_tempR.set_index('t',inplace=True)\n",
    "        df_tempR.reset_index(inplace=True)\n",
    "        df_tempR= pd.pivot_table(df_tempR, index='t', aggfunc='mean')\n",
    "        \n",
    "\n",
    "        df_R=df_R.merge(df_tempR, how='outer', right_index=True, left_index=True).fillna(np.NaN)\n",
    "        \n",
    "        \n",
    "        df_I =df_I.interpolate(method='linear', limit_direction='forward', axis=0)\n",
    "        df_DI =df_DI.interpolate(method='linear', limit_direction='forward', axis=0)\n",
    "        df_R = df_R.interpolate(method='linear',limit_direction='forward',axis = 0)\n",
    "        \n",
    "        # Changes for looking at actual numbers\n",
    "        df_Iavg=pd.DataFrame.mean(df_I, axis=1)\n",
    "        df_Iavg = df_Iavg/N\n",
    "        df_DIavg=pd.DataFrame.mean(df_DI, axis=1)\n",
    "        df_DIstd=pd.DataFrame.std(df_DI.cumsum(axis=1), axis=1)/N\n",
    "        df_DIavg = df_DIavg/N\n",
    "        df_Ravg = pd.DataFrame.mean(df_R, axis = 1)\n",
    "        df_Ravg = df_Ravg/N\n",
    "        \n",
    "        \n",
    "    return {'df_DI':df_DIavg, 'df_I': df_Iavg,'df_R': df_Ravg, 'df_std':df_DIstd}"
   ]
  },
  {
   "cell_type": "code",
   "execution_count": null,
   "metadata": {},
   "outputs": [],
   "source": [
    "def gen_graphs(numNodes, coeff):\n",
    "    G_normal = nx.erdos_renyi_graph(n=numNodes, p = coeff*1.1*np.log(5000)/numNodes, seed=42, directed=False)\n",
    "    G_relaxed = nx.erdos_renyi_graph(n=numNodes, p = coeff*0.301*np.log(5000)/numNodes , seed=42, directed=False)\n",
    "    G_Quarantine = nx.erdos_renyi_graph(n=numNodes, p = coeff*0.006*np.log(5000)/numNodes , seed=42, directed=False)\n",
    "    \n",
    "    return G_normal, G_relaxed, G_Quarantine"
   ]
  },
  {
   "cell_type": "code",
   "execution_count": null,
   "metadata": {},
   "outputs": [],
   "source": [
    "I = 1\n",
    "Et = [0.000, 0.0000,0.0002,0.0002]\n",
    "It = [0.00001, 0.0006, 0.001, 0.004]\n",
    "sim = 1000"
   ]
  },
  {
   "cell_type": "code",
   "execution_count": null,
   "metadata": {
    "scrolled": true
   },
   "outputs": [],
   "source": [
    "# With current testing and social distancing throughout\n",
    "numNodes = S5['total_pop']\n",
    "G_normal, G_relaxed, G_Quarantine = gen_graphs(numNodes, 1)\n",
    "\n",
    "final = []\n",
    "initI = I\n",
    "theta_E = Et[0]\n",
    "theta_I = It[0]\n",
    "mf = 1\n",
    "checkpoints  =  {'t': [15,25,50],\n",
    "                   'theta_E': Et[1:],\n",
    "                   'theta_I': It[1:],\n",
    "                 'G': [G_relaxed,G_Quarantine,G_Quarantine]\n",
    "                      }\n",
    "\n",
    "temp = monte(numNodes,initI=initI,theta_E = theta_E, theta_I = theta_I ,mf=mf, checkpoints=checkpoints, G = G_normal, sim=sim);"
   ]
  },
  {
   "cell_type": "code",
   "execution_count": null,
   "metadata": {},
   "outputs": [],
   "source": [
    "cumu = temp['df_DI'].cumsum(axis=0)\n",
    "plt.plot(cumu)\n",
    "plt.plot(cumu - 1.96*temp['df_std']/np.sqrt(sim), 'r--')\n",
    "plt.plot(cumu + 1.96*temp['df_std']/np.sqrt(sim), 'r--')\n",
    "plt.plot(\n",
    "    list(cumu.keys())[:len(S10['timeseries'][15:])],\n",
    "    [float(j[1])/numNodes for j in S5['timeseries'][15:]], 'g')"
   ]
  },
  {
   "cell_type": "code",
   "execution_count": null,
   "metadata": {},
   "outputs": [],
   "source": [
    "coeff = (S10['total_pop']*np.log(S10['total_pop'])*S5['area']*S5['F(S)']**2)/(S5['total_pop']*np.log(S5['total_pop'])*S10['area']*S10['F(S)']**2)"
   ]
  },
  {
   "cell_type": "code",
   "execution_count": null,
   "metadata": {},
   "outputs": [],
   "source": [
    "print(coeff)"
   ]
  },
  {
   "cell_type": "code",
   "execution_count": null,
   "metadata": {
    "scrolled": true
   },
   "outputs": [],
   "source": [
    "# With current testing and social distancing throughout\n",
    "numNodes = S10['total_pop']\n",
    "G_normal, G_relaxed, G_Quarantine = gen_graphs(numNodes, coeff)\n",
    "\n",
    "final = []\n",
    "initI = int(I*coeff)\n",
    "theta_E = Et[0]\n",
    "theta_I = It[0]\n",
    "mf = 1\n",
    "checkpoints  =  {'t': [15,25,50],\n",
    "                   'theta_E': Et[1:],\n",
    "                   'theta_I': It[1:],\n",
    "                 'G': [G_relaxed,G_Quarantine,G_relaxed]\n",
    "                      }\n",
    "\n",
    "temp = monte(numNodes,initI=initI,theta_E = theta_E, theta_I = theta_I ,mf=mf, checkpoints=checkpoints, G = G_normal, sim=sim);"
   ]
  },
  {
   "cell_type": "code",
   "execution_count": null,
   "metadata": {},
   "outputs": [],
   "source": [
    "cumu = temp['df_DI'].cumsum(axis=0)\n",
    "plt.plot(cumu)\n",
    "plt.plot(cumu - 1.96*temp['df_std']/np.sqrt(sim), 'r--')\n",
    "plt.plot(cumu + 1.96*temp['df_std']/np.sqrt(sim), 'r--')\n",
    "plt.plot(\n",
    "    list(cumu.keys())[:len(S10['timeseries'][15:])],\n",
    "    [float(j[1])/numNodes for j in S10['timeseries'][15:]], 'g')"
   ]
  },
  {
   "cell_type": "code",
   "execution_count": null,
   "metadata": {},
   "outputs": [],
   "source": []
  },
  {
   "cell_type": "code",
   "execution_count": null,
   "metadata": {},
   "outputs": [],
   "source": [
    "coeff = (S20['total_pop']*np.log(S20['total_pop'])*S5['area']*S5['F(S)']**2)/(S5['total_pop']*np.log(S5['total_pop'])*S20['area']*S20['F(S)']**2)"
   ]
  },
  {
   "cell_type": "code",
   "execution_count": null,
   "metadata": {},
   "outputs": [],
   "source": [
    "print(coeff)"
   ]
  },
  {
   "cell_type": "code",
   "execution_count": null,
   "metadata": {
    "scrolled": true
   },
   "outputs": [],
   "source": [
    "# With current testing and social distancing throughout\n",
    "numNodes = S20['total_pop']\n",
    "G_normal, G_relaxed, G_Quarantine = gen_graphs(numNodes, coeff)\n",
    "\n",
    "\n",
    "final = []\n",
    "initI = int(I*coeff)\n",
    "theta_E = Et[0]\n",
    "theta_I = It[0]\n",
    "mf = 1\n",
    "checkpoints  =  {'t': [15,25,50],\n",
    "                   'theta_E': Et[1:],\n",
    "                   'theta_I': It[1:],\n",
    "                 'G': [G_relaxed,G_Quarantine,G_Quarantine]\n",
    "                      }\n",
    "\n",
    "temp = monte(numNodes,initI=initI,theta_E = theta_E, theta_I = theta_I ,mf=mf, checkpoints=checkpoints, G = G_normal, sim=sim);"
   ]
  },
  {
   "cell_type": "code",
   "execution_count": null,
   "metadata": {},
   "outputs": [],
   "source": [
    "cumu = temp['df_DI'].cumsum(axis=0)\n",
    "plt.plot(cumu)\n",
    "plt.plot(cumu - 1.96*temp['df_std']/np.sqrt(sim), 'r--')\n",
    "plt.plot(cumu + 1.96*temp['df_std']/np.sqrt(sim), 'r--')\n",
    "plt.plot(\n",
    "    list(cumu.keys())[:len(S10['timeseries'][15:])],\n",
    "    [float(j[1])/numNodes for j in S20['timeseries'][15:]], 'g')"
   ]
  },
  {
   "cell_type": "code",
   "execution_count": null,
   "metadata": {},
   "outputs": [],
   "source": []
  }
 ],
 "metadata": {
  "kernelspec": {
   "display_name": "Python 3",
   "language": "python",
   "name": "python3"
  },
  "language_info": {
   "codemirror_mode": {
    "name": "ipython",
    "version": 3
   },
   "file_extension": ".py",
   "mimetype": "text/x-python",
   "name": "python",
   "nbconvert_exporter": "python",
   "pygments_lexer": "ipython3",
   "version": "3.6.9"
  }
 },
 "nbformat": 4,
 "nbformat_minor": 4
}
