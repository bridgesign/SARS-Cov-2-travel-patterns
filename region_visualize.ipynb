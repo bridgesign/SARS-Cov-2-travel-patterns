{
 "cells": [
  {
   "cell_type": "code",
   "execution_count": 3,
   "metadata": {},
   "outputs": [],
   "source": [
    "from ipyleaflet import Map, basemaps, Polygon, Marker, Popup\n",
    "from ipywidgets import HTML\n",
    "import IPython.core.display as ip\n",
    "import shapely.geometry as sg"
   ]
  },
  {
   "cell_type": "code",
   "execution_count": 4,
   "metadata": {},
   "outputs": [],
   "source": [
    "import pickle\n",
    "from scipy.spatial import ConvexHull\n",
    "import networkx as nx\n",
    "import numpy as np"
   ]
  },
  {
   "cell_type": "code",
   "execution_count": 5,
   "metadata": {},
   "outputs": [],
   "source": [
    "center = (23.0225, 72.5714)\n",
    "m = Map(basemap=basemaps.OpenStreetMap.Mapnik, center=center, zoom=10)"
   ]
  },
  {
   "cell_type": "code",
   "execution_count": 6,
   "metadata": {},
   "outputs": [],
   "source": [
    "with open('region_sim1.p', 'rb') as fp:\n",
    "    S5, S10, S20 = pickle.load(fp)\n",
    "\n",
    "poly = Polygon(\n",
    "    locations=[S20['patch'][j] for j in ConvexHull(S20['patch']).vertices],\n",
    "    color=\"green\",\n",
    "    fill_color=\"green\",\n",
    "    weigth=3\n",
    ")\n",
    "\n",
    "popup = Popup(\n",
    "    location=S20['patch'][0],\n",
    "    child=HTML(value=\"Region 1\"),\n",
    "    close_button=False,\n",
    "    auto_close=False,\n",
    "    close_on_escape_key=False\n",
    ")\n",
    "m.add_layer(popup)\n",
    "\n",
    "m.add_layer(poly)\n",
    "\n",
    "with open('region_sim2.p', 'rb') as fp:\n",
    "    S5, S10, S20 = pickle.load(fp)\n",
    "\n",
    "poly = Polygon(\n",
    "    locations=[S20['patch'][j] for j in ConvexHull(S20['patch']).vertices],\n",
    "    color=\"green\",\n",
    "    fill_color=\"green\",\n",
    "    weigth=3\n",
    ")\n",
    "\n",
    "popup = Popup(\n",
    "    location=S20['patch'][0],\n",
    "    child=HTML(value=\"Region 2\"),\n",
    "    close_button=False,\n",
    "    auto_close=False,\n",
    "    close_on_escape_key=False\n",
    ")\n",
    "m.add_layer(popup)\n",
    "m.add_layer(poly)\n",
    "\n",
    "with open('region_sim3.p', 'rb') as fp:\n",
    "    S5, S10, S20 = pickle.load(fp)\n",
    "\n",
    "poly = Polygon(\n",
    "    locations=[S20['patch'][j] for j in ConvexHull(S20['patch']).vertices],\n",
    "    color=\"green\",\n",
    "    fill_color=\"green\",\n",
    "    weigth=3\n",
    ")\n",
    "\n",
    "popup = Popup(\n",
    "    location=S20['patch'][0],\n",
    "    child=HTML(value=\"Region 3\"),\n",
    "    close_button=False,\n",
    "    auto_close=False,\n",
    "    close_on_escape_key=False\n",
    ")\n",
    "m.add_layer(popup)\n",
    "m.add_layer(poly)\n",
    "\n",
    "with open('region_sim4.p', 'rb') as fp:\n",
    "    S5, S10, S20 = pickle.load(fp)\n",
    "\n",
    "poly = Polygon(\n",
    "    locations=[S20['patch'][j] for j in ConvexHull(S20['patch']).vertices],\n",
    "    color=\"green\",\n",
    "    fill_color=\"green\",\n",
    "    weigth=3\n",
    ")\n",
    "popup = Popup(\n",
    "    location=S20['patch'][0],\n",
    "    child=HTML(value=\"Region 4\"),\n",
    "    close_button=False,\n",
    "    auto_close=False,\n",
    "    close_on_escape_key=False\n",
    ")\n",
    "m.add_layer(popup)\n",
    "m.add_layer(poly)"
   ]
  },
  {
   "cell_type": "code",
   "execution_count": 7,
   "metadata": {},
   "outputs": [
    {
     "data": {
      "application/vnd.jupyter.widget-view+json": {
       "model_id": "960fa86b344a4e4c9b99e9f3aeff98b6",
       "version_major": 2,
       "version_minor": 0
      },
      "text/plain": [
       "Map(center=[23.0225, 72.5714], controls=(ZoomControl(options=['position', 'zoom_in_text', 'zoom_in_title', 'zo…"
      ]
     },
     "metadata": {},
     "output_type": "display_data"
    }
   ],
   "source": [
    "# Map showing the region's 20000 population patches\n",
    "# Will rrequire a rerun\n",
    "m"
   ]
  },
  {
   "cell_type": "code",
   "execution_count": 8,
   "metadata": {},
   "outputs": [],
   "source": [
    "center = (23.0225, 72.5714)\n",
    "m = Map(basemap=basemaps.OpenStreetMap.Mapnik, center=center, zoom=10)"
   ]
  },
  {
   "cell_type": "code",
   "execution_count": 7,
   "metadata": {},
   "outputs": [],
   "source": [
    "G = nx.read_graphml(\"../../Full_network.graphml\", node_type=int, edge_key_type=int)"
   ]
  },
  {
   "cell_type": "code",
   "execution_count": 11,
   "metadata": {},
   "outputs": [],
   "source": [
    "with open(\"../dashboard/data/wards_updated.p\", \"rb\") as fp:\n",
    "    ward_poly = pickle.load(fp)"
   ]
  },
  {
   "cell_type": "code",
   "execution_count": 12,
   "metadata": {},
   "outputs": [],
   "source": [
    "ward_area = {}\n",
    "for w in ward_poly:\n",
    "    ward_area[w] = sg.Polygon(ward_poly[w]['polygon'][0]).area"
   ]
  },
  {
   "cell_type": "code",
   "execution_count": 13,
   "metadata": {},
   "outputs": [
    {
     "ename": "NameError",
     "evalue": "name 'G' is not defined",
     "output_type": "error",
     "traceback": [
      "\u001b[0;31m---------------------------------------------------------------------------\u001b[0m",
      "\u001b[0;31mNameError\u001b[0m                                 Traceback (most recent call last)",
      "\u001b[0;32m<ipython-input-13-61665b76472c>\u001b[0m in \u001b[0;36m<module>\u001b[0;34m\u001b[0m\n\u001b[1;32m      3\u001b[0m     \u001b[0marr\u001b[0m \u001b[0;34m=\u001b[0m \u001b[0;34m[\u001b[0m\u001b[0;34m]\u001b[0m\u001b[0;34m\u001b[0m\u001b[0;34m\u001b[0m\u001b[0m\n\u001b[1;32m      4\u001b[0m     \u001b[0mpoly\u001b[0m \u001b[0;34m=\u001b[0m \u001b[0msg\u001b[0m\u001b[0;34m.\u001b[0m\u001b[0mMultiPoint\u001b[0m\u001b[0;34m(\u001b[0m\u001b[0mward_poly\u001b[0m\u001b[0;34m[\u001b[0m\u001b[0mw\u001b[0m\u001b[0;34m]\u001b[0m\u001b[0;34m[\u001b[0m\u001b[0;34m'polygon'\u001b[0m\u001b[0;34m]\u001b[0m\u001b[0;34m[\u001b[0m\u001b[0;36m0\u001b[0m\u001b[0;34m]\u001b[0m\u001b[0;34m)\u001b[0m\u001b[0;34m.\u001b[0m\u001b[0mconvex_hull\u001b[0m\u001b[0;34m\u001b[0m\u001b[0;34m\u001b[0m\u001b[0m\n\u001b[0;32m----> 5\u001b[0;31m     \u001b[0;32mfor\u001b[0m \u001b[0mj\u001b[0m \u001b[0;32min\u001b[0m \u001b[0mG\u001b[0m\u001b[0;34m:\u001b[0m\u001b[0;34m\u001b[0m\u001b[0;34m\u001b[0m\u001b[0m\n\u001b[0m\u001b[1;32m      6\u001b[0m         \u001b[0mpoint\u001b[0m \u001b[0;34m=\u001b[0m \u001b[0msg\u001b[0m\u001b[0;34m.\u001b[0m\u001b[0mPoint\u001b[0m\u001b[0;34m(\u001b[0m\u001b[0mG\u001b[0m\u001b[0;34m.\u001b[0m\u001b[0mnodes\u001b[0m\u001b[0;34m[\u001b[0m\u001b[0mj\u001b[0m\u001b[0;34m]\u001b[0m\u001b[0;34m[\u001b[0m\u001b[0;34m'X'\u001b[0m\u001b[0;34m]\u001b[0m\u001b[0;34m,\u001b[0m\u001b[0mG\u001b[0m\u001b[0;34m.\u001b[0m\u001b[0mnodes\u001b[0m\u001b[0;34m[\u001b[0m\u001b[0mj\u001b[0m\u001b[0;34m]\u001b[0m\u001b[0;34m[\u001b[0m\u001b[0;34m'Y'\u001b[0m\u001b[0;34m]\u001b[0m\u001b[0;34m)\u001b[0m\u001b[0;34m\u001b[0m\u001b[0;34m\u001b[0m\u001b[0m\n\u001b[1;32m      7\u001b[0m         \u001b[0;32mif\u001b[0m \u001b[0mpoly\u001b[0m\u001b[0;34m.\u001b[0m\u001b[0mcontains\u001b[0m\u001b[0;34m(\u001b[0m\u001b[0mpoint\u001b[0m\u001b[0;34m)\u001b[0m\u001b[0;34m:\u001b[0m\u001b[0;34m\u001b[0m\u001b[0;34m\u001b[0m\u001b[0m\n",
      "\u001b[0;31mNameError\u001b[0m: name 'G' is not defined"
     ]
    }
   ],
   "source": [
    "ward_nodes = {}\n",
    "for w in ward_poly:\n",
    "    arr = []\n",
    "    poly = sg.MultiPoint(ward_poly[w]['polygon'][0]).convex_hull\n",
    "    for j in G:\n",
    "        point = sg.Point(G.nodes[j]['X'],G.nodes[j]['Y'])\n",
    "        if poly.contains(point):\n",
    "            arr.append(j)\n",
    "    ward_nodes[w] = arr"
   ]
  },
  {
   "cell_type": "code",
   "execution_count": 10,
   "metadata": {},
   "outputs": [
    {
     "ename": "NameError",
     "evalue": "name 'G' is not defined",
     "output_type": "error",
     "traceback": [
      "\u001b[0;31m---------------------------------------------------------------------------\u001b[0m",
      "\u001b[0;31mNameError\u001b[0m                                 Traceback (most recent call last)",
      "\u001b[0;32m<ipython-input-10-a67c74df80eb>\u001b[0m in \u001b[0;36m<module>\u001b[0;34m\u001b[0m\n\u001b[0;32m----> 1\u001b[0;31m \u001b[0mPop\u001b[0m \u001b[0;34m=\u001b[0m \u001b[0mnx\u001b[0m\u001b[0;34m.\u001b[0m\u001b[0mget_node_attributes\u001b[0m\u001b[0;34m(\u001b[0m\u001b[0mG\u001b[0m\u001b[0;34m,\u001b[0m \u001b[0;34m'NP'\u001b[0m\u001b[0;34m)\u001b[0m\u001b[0;34m\u001b[0m\u001b[0;34m\u001b[0m\u001b[0m\n\u001b[0m",
      "\u001b[0;31mNameError\u001b[0m: name 'G' is not defined"
     ]
    }
   ],
   "source": [
    "Pop = nx.get_node_attributes(G, 'NP')"
   ]
  },
  {
   "cell_type": "code",
   "execution_count": 12,
   "metadata": {},
   "outputs": [],
   "source": [
    "ward_density = {}\n",
    "for w in ward_area:\n",
    "    total_pop = 0\n",
    "    for node in ward_nodes[w]:\n",
    "        total_pop+=Pop[node]\n",
    "    ward_density[w] = float(total_pop)/ward_area[w]"
   ]
  },
  {
   "cell_type": "code",
   "execution_count": 13,
   "metadata": {},
   "outputs": [],
   "source": [
    "keys = list(ward_area.keys())"
   ]
  },
  {
   "cell_type": "code",
   "execution_count": 10,
   "metadata": {},
   "outputs": [],
   "source": [
    "def rgb(minimum, maximum, value):\n",
    "    minimum, maximum = float(minimum), float(maximum)\n",
    "    ratio = ((value-minimum)**2 / (maximum - minimum)**2)*240\n",
    "    return \"hsl(\"+str(ratio)+\", 100%, 50%)\""
   ]
  },
  {
   "cell_type": "code",
   "execution_count": 15,
   "metadata": {},
   "outputs": [],
   "source": [
    "rank = np.argsort([-ward_density[k] for k in keys])+1"
   ]
  },
  {
   "cell_type": "code",
   "execution_count": 16,
   "metadata": {},
   "outputs": [],
   "source": [
    "for i in range(64):\n",
    "    poly = Polygon(\n",
    "        locations=[j[::-1] for j in ward_poly[keys[i]]['polygon'][0]],\n",
    "        color=\"green\",\n",
    "        fill_color=rgb(1,64, rank[i]),\n",
    "        weigth=0,\n",
    "        opacity=0,\n",
    "        fill_opacity=0.5\n",
    "    )\n",
    "    m.add_layer(poly)"
   ]
  },
  {
   "cell_type": "code",
   "execution_count": 17,
   "metadata": {},
   "outputs": [
    {
     "data": {
      "application/vnd.jupyter.widget-view+json": {
       "model_id": "de347947d8bb4384aa659014a26a2e1b",
       "version_major": 2,
       "version_minor": 0
      },
      "text/plain": [
       "Map(center=[23.0225, 72.5714], controls=(ZoomControl(options=['position', 'zoom_in_text', 'zoom_in_title', 'zo…"
      ]
     },
     "metadata": {},
     "output_type": "display_data"
    }
   ],
   "source": [
    "m"
   ]
  },
  {
   "cell_type": "code",
   "execution_count": 18,
   "metadata": {},
   "outputs": [],
   "source": [
    "center = (23.0225, 72.5714)\n",
    "m = Map(basemap=basemaps.OpenStreetMap.Mapnik, center=center, zoom=10)"
   ]
  },
  {
   "cell_type": "code",
   "execution_count": 7,
   "metadata": {},
   "outputs": [],
   "source": [
    "with open('../dashboard/data/ward_ts.p', 'rb') as fp:\n",
    "    ward_ts = pickle.load(fp)"
   ]
  },
  {
   "cell_type": "code",
   "execution_count": 8,
   "metadata": {},
   "outputs": [
    {
     "ename": "NameError",
     "evalue": "name 'keys' is not defined",
     "output_type": "error",
     "traceback": [
      "\u001b[0;31m---------------------------------------------------------------------------\u001b[0m",
      "\u001b[0;31mNameError\u001b[0m                                 Traceback (most recent call last)",
      "\u001b[0;32m<ipython-input-8-1c23b8e016e9>\u001b[0m in \u001b[0;36m<module>\u001b[0;34m\u001b[0m\n\u001b[0;32m----> 1\u001b[0;31m \u001b[0mrank\u001b[0m \u001b[0;34m=\u001b[0m \u001b[0mnp\u001b[0m\u001b[0;34m.\u001b[0m\u001b[0margsort\u001b[0m\u001b[0;34m(\u001b[0m\u001b[0;34m[\u001b[0m\u001b[0;34m-\u001b[0m\u001b[0mward_ts\u001b[0m\u001b[0;34m[\u001b[0m\u001b[0mk\u001b[0m\u001b[0;34m]\u001b[0m\u001b[0;34m[\u001b[0m\u001b[0;34m-\u001b[0m\u001b[0;36m1\u001b[0m\u001b[0;34m]\u001b[0m\u001b[0;34m[\u001b[0m\u001b[0;36m1\u001b[0m\u001b[0;34m]\u001b[0m \u001b[0;32mfor\u001b[0m \u001b[0mk\u001b[0m \u001b[0;32min\u001b[0m \u001b[0mkeys\u001b[0m\u001b[0;34m]\u001b[0m\u001b[0;34m)\u001b[0m\u001b[0;34m+\u001b[0m\u001b[0;36m1\u001b[0m\u001b[0;34m\u001b[0m\u001b[0;34m\u001b[0m\u001b[0m\n\u001b[0m",
      "\u001b[0;31mNameError\u001b[0m: name 'keys' is not defined"
     ]
    }
   ],
   "source": [
    "rank = np.argsort([-ward_ts[k][-1][1] for k in keys])+1"
   ]
  },
  {
   "cell_type": "code",
   "execution_count": 21,
   "metadata": {},
   "outputs": [],
   "source": [
    "for i in range(64):\n",
    "    poly = Polygon(\n",
    "        locations=[j[::-1] for j in ward_poly[keys[i]]['polygon'][0]],\n",
    "        color=\"green\",\n",
    "        fill_color=rgb(1,64, rank[i]),\n",
    "        weigth=0,\n",
    "        opacity=0,\n",
    "        fill_opacity=0.5\n",
    "    )\n",
    "    m.add_layer(poly)"
   ]
  },
  {
   "cell_type": "code",
   "execution_count": 22,
   "metadata": {},
   "outputs": [
    {
     "data": {
      "application/vnd.jupyter.widget-view+json": {
       "model_id": "47994f412c284757ba36a872fc470da6",
       "version_major": 2,
       "version_minor": 0
      },
      "text/plain": [
       "Map(center=[23.0225, 72.5714], controls=(ZoomControl(options=['position', 'zoom_in_text', 'zoom_in_title', 'zo…"
      ]
     },
     "metadata": {},
     "output_type": "display_data"
    }
   ],
   "source": [
    "m"
   ]
  },
  {
   "cell_type": "code",
   "execution_count": 15,
   "metadata": {},
   "outputs": [],
   "source": [
    "arr = np.array(sorted([ward_ts[k][-1][1] for k in ward_ts], reverse=True)+[0]).reshape((5,13))"
   ]
  },
  {
   "cell_type": "code",
   "execution_count": 16,
   "metadata": {},
   "outputs": [
    {
     "name": "stdout",
     "output_type": "stream",
     "text": [
      "806 207 hsl(0.0, 100%, 50%) hsl(8.70748299319728, 100%, 50%)\n",
      "206 147 hsl(10.219198790627361, 100%, 50%) hsl(37.79289493575208, 100%, 50%)\n",
      "145 104 hsl(40.876795162509445, 100%, 50%) hsl(87.3167044595616, 100%, 50%)\n",
      "97 72 hsl(91.97278911564626, 100%, 50%) hsl(157.27891156462584, 100%, 50%)\n",
      "71 0 hsl(163.50718065003778, 100%, 50%) hsl(247.67951625094486, 100%, 50%)\n"
     ]
    }
   ],
   "source": [
    "for i in range(5):\n",
    "    print(arr[i][0], arr[i][-1], rgb(1, 64, i*13+1), rgb(1, 64, i*13+13))"
   ]
  },
  {
   "cell_type": "code",
   "execution_count": null,
   "metadata": {},
   "outputs": [],
   "source": []
  },
  {
   "cell_type": "code",
   "execution_count": null,
   "metadata": {},
   "outputs": [],
   "source": []
  },
  {
   "cell_type": "code",
   "execution_count": 23,
   "metadata": {},
   "outputs": [],
   "source": [
    "center = (23.0225, 72.5714)\n",
    "m = Map(basemap=basemaps.OpenStreetMap.Mapnik, center=center, zoom=10)"
   ]
  },
  {
   "cell_type": "code",
   "execution_count": 24,
   "metadata": {},
   "outputs": [],
   "source": [
    "Cmat = np.load(\"../../Cmat.npy\")\n",
    "with open(\"../../mapping.bin\", \"rb\") as fp:\n",
    "    mapping = pickle.load(fp)"
   ]
  },
  {
   "cell_type": "code",
   "execution_count": 25,
   "metadata": {},
   "outputs": [],
   "source": [
    "ward_final = {}\n",
    "for w in ward_area:\n",
    "    total_pop = 0\n",
    "    coeff = 0\n",
    "    for node in ward_nodes[w]:\n",
    "        total_pop+=Pop[node]\n",
    "        for jnode in ward_nodes[w]:\n",
    "            coeff+=np.exp(-Cmat[mapping[node]][mapping[jnode]])*Pop[node]*Pop[jnode]\n",
    "    coeff = float(coeff)/(total_pop**2)\n",
    "    ward_final[w] = (ward_area[w], coeff, total_pop)"
   ]
  },
  {
   "cell_type": "code",
   "execution_count": 26,
   "metadata": {},
   "outputs": [],
   "source": [
    "rank = np.argsort([-ward_final[w][2]*np.log(ward_final[w][2])/(ward_final[w][1]**2*ward_final[w][0]) for w in keys])+1"
   ]
  },
  {
   "cell_type": "code",
   "execution_count": 27,
   "metadata": {},
   "outputs": [],
   "source": [
    "for i in range(64):\n",
    "    poly = Polygon(\n",
    "        locations=[j[::-1] for j in ward_poly[keys[i]]['polygon'][0]],\n",
    "        color=\"green\",\n",
    "        fill_color=rgb(1,64, rank[i]),\n",
    "        weigth=0,\n",
    "        opacity=0,\n",
    "        fill_opacity=0.5\n",
    "    )\n",
    "    m.add_layer(poly)"
   ]
  },
  {
   "cell_type": "code",
   "execution_count": 28,
   "metadata": {},
   "outputs": [
    {
     "data": {
      "application/vnd.jupyter.widget-view+json": {
       "model_id": "3e23a74f91fb404ba7cde65d4b262686",
       "version_major": 2,
       "version_minor": 0
      },
      "text/plain": [
       "Map(center=[23.0225, 72.5714], controls=(ZoomControl(options=['position', 'zoom_in_text', 'zoom_in_title', 'zo…"
      ]
     },
     "metadata": {},
     "output_type": "display_data"
    }
   ],
   "source": [
    "m"
   ]
  },
  {
   "cell_type": "code",
   "execution_count": null,
   "metadata": {},
   "outputs": [],
   "source": []
  }
 ],
 "metadata": {
  "kernelspec": {
   "display_name": "Python 3",
   "language": "python",
   "name": "python3"
  },
  "language_info": {
   "codemirror_mode": {
    "name": "ipython",
    "version": 3
   },
   "file_extension": ".py",
   "mimetype": "text/x-python",
   "name": "python",
   "nbconvert_exporter": "python",
   "pygments_lexer": "ipython3",
   "version": "3.6.9"
  }
 },
 "nbformat": 4,
 "nbformat_minor": 4
}
